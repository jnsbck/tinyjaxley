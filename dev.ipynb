{
 "cells": [
  {
   "cell_type": "code",
   "execution_count": 1,
   "metadata": {},
   "outputs": [],
   "source": [
    "%load_ext autoreload\n",
    "%autoreload 2"
   ]
  },
  {
   "cell_type": "code",
   "execution_count": 2,
   "metadata": {},
   "outputs": [],
   "source": [
    "from jax import config\n",
    "config.update(\"jax_enable_x64\", True)\n",
    "config.update(\"jax_platform_name\", \"cpu\")\n",
    "\n",
    "import jax\n",
    "import jax.numpy as jnp\n",
    "from tinyjaxley.modules.comp import Compartment\n",
    "from tinyjaxley.modules.branch import Branch\n",
    "# from tinyjaxley.modules.cell import Cell\n",
    "from tinyjaxley.channels.hh import Na, K, Leak\n",
    "import matplotlib.pyplot as plt\n",
    "from tinyjaxley.solvers import fw_euler\n",
    "import pandas as pd\n",
    "from diffrax import diffeqsolve, ODETerm, SaveAt, Dopri5\n",
    "import equinox as eqx\n",
    "from jax import lax"
   ]
  },
  {
   "cell_type": "markdown",
   "metadata": {},
   "source": [
    "- recurse into channels -> set and get should work for example\n",
    "    - submodules should get custom method for each module, i.e. comp.channels -> comp.submodules, branch.comps -> branch.submodules, etc.\n",
    "- fix `comp.set((\"k\", \"n\"), 0.0)` same for `clamp` and `record`\n",
    "- tests to assert against jaxley"
   ]
  },
  {
   "cell_type": "code",
   "execution_count": 3,
   "metadata": {},
   "outputs": [],
   "source": [
    "comp = Compartment()\n",
    "# comp.record(\"v\")\n",
    "comp.insert(Leak())\n",
    "comp.insert(Na())\n",
    "comp.insert(K())\n",
    "comp.stimulate(lambda t, u: jnp.array([0.01]))\n",
    "\n",
    "t0 = 0\n",
    "u0 = comp.all_states\n",
    "comp.set((\"comp\", \"v\"), -70.0)\n",
    "u0 = comp.init()"
   ]
  },
  {
   "cell_type": "code",
   "execution_count": 4,
   "metadata": {},
   "outputs": [],
   "source": [
    "ode = ODETerm(comp.vf)\n",
    "tspan = (0, 20)\n",
    "ts = jnp.arange(*tspan, 0.025)\n",
    "saveat = SaveAt(ts = ts)\n",
    "sol = diffeqsolve(ode, Dopri5(), *tspan, y0 = u0, dt0 = 0.025, saveat = saveat)"
   ]
  },
  {
   "cell_type": "code",
   "execution_count": 5,
   "metadata": {},
   "outputs": [],
   "source": [
    "branch = Branch([Compartment()]*2)\n",
    "# branch.record(\"v\")\n",
    "branch.insert(Leak())\n",
    "branch.insert(Na())\n",
    "branch.insert(K())\n",
    "branch.comp(0).stimulate(lambda t, u: jnp.array([0.05]))\n",
    "branch.comp(1).stimulate(lambda t, u: jnp.array([-0.05]))\n",
    "\n",
    "# t0 = 0\n",
    "u0 = branch.all_states\n",
    "# branch.set(\"v\", -70.0)\n",
    "u0 = branch.init()"
   ]
  },
  {
   "cell_type": "code",
   "execution_count": 10,
   "metadata": {},
   "outputs": [
    {
     "data": {
      "text/html": [
       "<div>\n",
       "<style scoped>\n",
       "    .dataframe tbody tr th:only-of-type {\n",
       "        vertical-align: middle;\n",
       "    }\n",
       "\n",
       "    .dataframe tbody tr th {\n",
       "        vertical-align: top;\n",
       "    }\n",
       "\n",
       "    .dataframe thead tr th {\n",
       "        text-align: left;\n",
       "    }\n",
       "</style>\n",
       "<table border=\"1\" class=\"dataframe\">\n",
       "  <thead>\n",
       "    <tr>\n",
       "      <th></th>\n",
       "      <th colspan=\"6\" halign=\"left\">comp</th>\n",
       "      <th colspan=\"3\" halign=\"left\">leak</th>\n",
       "      <th colspan=\"5\" halign=\"left\">na</th>\n",
       "      <th colspan=\"4\" halign=\"left\">k</th>\n",
       "    </tr>\n",
       "    <tr>\n",
       "      <th></th>\n",
       "      <th>Ra</th>\n",
       "      <th>c</th>\n",
       "      <th>l</th>\n",
       "      <th>r</th>\n",
       "      <th>i</th>\n",
       "      <th>v</th>\n",
       "      <th>e</th>\n",
       "      <th>g</th>\n",
       "      <th>i</th>\n",
       "      <th>e</th>\n",
       "      <th>g</th>\n",
       "      <th>h</th>\n",
       "      <th>i</th>\n",
       "      <th>m</th>\n",
       "      <th>e</th>\n",
       "      <th>g</th>\n",
       "      <th>i</th>\n",
       "      <th>n</th>\n",
       "    </tr>\n",
       "  </thead>\n",
       "  <tbody>\n",
       "    <tr>\n",
       "      <th>0</th>\n",
       "      <td>5000.0</td>\n",
       "      <td>1.0</td>\n",
       "      <td>10.0</td>\n",
       "      <td>1.0</td>\n",
       "      <td>0.05</td>\n",
       "      <td>-70.0</td>\n",
       "      <td>-54.3</td>\n",
       "      <td>0.0003</td>\n",
       "      <td>0.0</td>\n",
       "      <td>50.0</td>\n",
       "      <td>0.12</td>\n",
       "      <td>0.2</td>\n",
       "      <td>0.0</td>\n",
       "      <td>0.2</td>\n",
       "      <td>-77.0</td>\n",
       "      <td>0.036</td>\n",
       "      <td>0.0</td>\n",
       "      <td>0.2</td>\n",
       "    </tr>\n",
       "    <tr>\n",
       "      <th>1</th>\n",
       "      <td>5000.0</td>\n",
       "      <td>1.0</td>\n",
       "      <td>10.0</td>\n",
       "      <td>1.0</td>\n",
       "      <td>-0.05</td>\n",
       "      <td>-70.0</td>\n",
       "      <td>-54.3</td>\n",
       "      <td>0.0003</td>\n",
       "      <td>0.0</td>\n",
       "      <td>50.0</td>\n",
       "      <td>0.12</td>\n",
       "      <td>0.2</td>\n",
       "      <td>0.0</td>\n",
       "      <td>0.2</td>\n",
       "      <td>-77.0</td>\n",
       "      <td>0.036</td>\n",
       "      <td>0.0</td>\n",
       "      <td>0.2</td>\n",
       "    </tr>\n",
       "  </tbody>\n",
       "</table>\n",
       "</div>"
      ],
      "text/plain": [
       "     comp                              leak                 na             \\\n",
       "       Ra    c     l    r     i     v     e       g    i     e     g    h   \n",
       "0  5000.0  1.0  10.0  1.0  0.05 -70.0 -54.3  0.0003  0.0  50.0  0.12  0.2   \n",
       "1  5000.0  1.0  10.0  1.0 -0.05 -70.0 -54.3  0.0003  0.0  50.0  0.12  0.2   \n",
       "\n",
       "                k                   \n",
       "     i    m     e      g    i    n  \n",
       "0  0.0  0.2 -77.0  0.036  0.0  0.2  \n",
       "1  0.0  0.2 -77.0  0.036  0.0  0.2  "
      ]
     },
     "execution_count": 10,
     "metadata": {},
     "output_type": "execute_result"
    }
   ],
   "source": [
    "branch.show()"
   ]
  },
  {
   "cell_type": "code",
   "execution_count": 13,
   "metadata": {},
   "outputs": [],
   "source": [
    "ode = ODETerm(branch.vf)\n",
    "tspan = (0, 20)\n",
    "ts = jnp.arange(*tspan, 0.025)\n",
    "saveat = SaveAt(ts = ts)\n",
    "sol = diffeqsolve(ode, Dopri5(), *tspan, y0 = u0, dt0 = 0.025, saveat = saveat)"
   ]
  },
  {
   "cell_type": "code",
   "execution_count": 14,
   "metadata": {},
   "outputs": [
    {
     "data": {
      "text/plain": [
       "[<matplotlib.lines.Line2D at 0x7fa25f016b10>]"
      ]
     },
     "execution_count": 14,
     "metadata": {},
     "output_type": "execute_result"
    },
    {
     "data": {
      "image/png": "[encoded data removed]",
      "text/plain": [
       "<Figure size 640x480 with 1 Axes>"
      ]
     },
     "metadata": {},
     "output_type": "display_data"
    }
   ],
   "source": [
    "plt.plot(sol.ys[1][0][0][\"v\"])\n",
    "plt.plot(sol.ys[1][1][0][\"v\"])"
   ]
  }
 ],
 "metadata": {
  "kernelspec": {
   "display_name": ".venv",
   "language": "python",
   "name": "python3"
  },
  "language_info": {
   "codemirror_mode": {
    "name": "ipython",
    "version": 3
   },
   "file_extension": ".py",
   "mimetype": "text/x-python",
   "name": "python",
   "nbconvert_exporter": "python",
   "pygments_lexer": "ipython3",
   "version": "3.12.8"
  }
 },
 "nbformat": 4,
 "nbformat_minor": 2
}
